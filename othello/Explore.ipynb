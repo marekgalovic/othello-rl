{
 "cells": [
  {
   "cell_type": "code",
   "execution_count": 1,
   "metadata": {},
   "outputs": [],
   "source": [
    "import tensorflow as tf\n",
    "import numpy as np\n",
    "\n",
    "from board import Board\n",
    "from agent import Agent\n",
    "from mcts import mcts, MCTS, TerminalStateException, _ucb_score, _simulate_truncated"
   ]
  },
  {
   "cell_type": "code",
   "execution_count": 2,
   "metadata": {},
   "outputs": [
    {
     "data": {
      "text/plain": [
       "<tensorflow.python.training.tracking.util.CheckpointLoadStatus at 0x1387c28d0>"
      ]
     },
     "execution_count": 2,
     "metadata": {},
     "output_type": "execute_result"
    }
   ],
   "source": [
    "CHECKPONT = '../checkpoints/othello_rl_v2_nomcts_train_20191031_111829/ckpt-60' \n",
    "\n",
    "agent = Agent(8)\n",
    "tf.train.Checkpoint(net=agent).restore(CHECKPONT).expect_partial()"
   ]
  },
  {
   "cell_type": "code",
   "execution_count": 3,
   "metadata": {},
   "outputs": [],
   "source": [
    "board = Board()\n",
    "\n",
    "s = MCTS(agent, n_iter=100, c=4)\n",
    "root_node, mcts_p, _, _ = s.search(board, 0)\n",
    "# root_node, mcts_p, _, _ = mcts(board, agent, 0, n_iter=100, c=4)"
   ]
  },
  {
   "cell_type": "code",
   "execution_count": 4,
   "metadata": {
    "scrolled": false
   },
   "outputs": [
    {
     "data": {
      "text/plain": [
       "array([-0.5834996 , -0.23937608, -0.97238535,  0.15635358], dtype=float32)"
      ]
     },
     "execution_count": 4,
     "metadata": {},
     "output_type": "execute_result"
    }
   ],
   "source": [
    "root_node.child_values"
   ]
  },
  {
   "cell_type": "code",
   "execution_count": 73,
   "metadata": {},
   "outputs": [],
   "source": [
    "import copy\n",
    "\n",
    "def select_leaf_nodes(node, seq=[]):\n",
    "    leaf_nodes = []\n",
    "    if len(node.children) == 0:\n",
    "        leaf_nodes.append((copy.copy(seq), node))\n",
    "    else:\n",
    "        for i, child in enumerate(node.children):\n",
    "            child_seq = copy.copy(seq) + [i]\n",
    "            leaf_nodes += select_leaf_nodes(child, seq=child_seq)\n",
    "            \n",
    "    return leaf_nodes\n",
    "        \n",
    "leaf_nodes = select_leaf_nodes(root_node)"
   ]
  },
  {
   "cell_type": "code",
   "execution_count": 7,
   "metadata": {
    "scrolled": false
   },
   "outputs": [
    {
     "name": "stdout",
     "output_type": "stream",
     "text": [
      "Color: 0\n",
      "\t0\t1\t2\t3\t4\t5\t6\t7\n",
      "\t-\t-\t-\t-\t-\t-\t-\t-\n",
      "0 |\t.\t.\t.\t.\t.\t.\t.\t.\n",
      "1 |\t.\t.\t.\t.\t.\t.\t.\t.\n",
      "2 |\t.\t.\t.\t.\t.\t.\t.\t.\n",
      "3 |\t.\t.\t.\t1\t0\t.\t.\t.\n",
      "4 |\t.\t.\t.\t0\t1\t.\t.\t.\n",
      "5 |\t.\t.\t.\t.\t.\t.\t.\t.\n",
      "6 |\t.\t.\t.\t.\t.\t.\t.\t.\n",
      "7 |\t.\t.\t.\t.\t.\t.\t.\t.\n",
      "Player 0: 2, Player 1: 2\n",
      "Child: 0, Value: 0.0180, Visits: 1, UCB: 0.2504, Pi: 0.0011\n",
      "Child: 1, Value: 0.0154, Visits: 46, UCB: 0.3620, Pi: 0.0169\n",
      "Child: 2, Value: 0.0085, Visits: 13, UCB: 0.3617, Pi: 0.0055\n",
      "Child: 3, Value: 0.0171, Visits: 40, UCB: 0.3565, Pi: 0.0146\n",
      "Max Visits: 1\n",
      "Max UCB: 1\n",
      "Max PI: 1\n",
      "\n",
      "Color: 1\n",
      "\t0\t1\t2\t3\t4\t5\t6\t7\n",
      "\t-\t-\t-\t-\t-\t-\t-\t-\n",
      "0 |\t.\t.\t.\t.\t.\t.\t.\t.\n",
      "1 |\t.\t.\t.\t.\t.\t.\t.\t.\n",
      "2 |\t.\t.\t.\t.\t.\t.\t.\t.\n",
      "3 |\t.\t.\t0\t0\t0\t.\t.\t.\n",
      "4 |\t.\t.\t.\t0\t1\t.\t.\t.\n",
      "5 |\t.\t.\t.\t.\t.\t.\t.\t.\n",
      "6 |\t.\t.\t.\t.\t.\t.\t.\t.\n",
      "7 |\t.\t.\t.\t.\t.\t.\t.\t.\n",
      "Player 0: 4, Player 1: 1\n",
      "Child: 0, Value: -0.0298, Visits: 19, UCB: 0.5712, Pi: 0.0250\n",
      "Child: 1, Value: 0.0086, Visits: 10, UCB: 0.5551, Pi: 0.0131\n",
      "Child: 2, Value: -0.0125, Visits: 17, UCB: 0.5708, Pi: 0.0224\n",
      "Max Visits: 0\n",
      "Max UCB: 0\n",
      "Max PI: 0\n",
      "\n",
      "Color: 0\n",
      "\t0\t1\t2\t3\t4\t5\t6\t7\n",
      "\t-\t-\t-\t-\t-\t-\t-\t-\n",
      "0 |\t.\t.\t.\t.\t.\t.\t.\t.\n",
      "1 |\t.\t.\t.\t.\t.\t.\t.\t.\n",
      "2 |\t.\t.\t1\t.\t.\t.\t.\t.\n",
      "3 |\t.\t.\t0\t1\t0\t.\t.\t.\n",
      "4 |\t.\t.\t.\t0\t1\t.\t.\t.\n",
      "5 |\t.\t.\t.\t.\t.\t.\t.\t.\n",
      "6 |\t.\t.\t.\t.\t.\t.\t.\t.\n",
      "7 |\t.\t.\t.\t.\t.\t.\t.\t.\n",
      "Player 0: 3, Player 1: 3\n",
      "Child: 0, Value: 0.0144, Visits: 1, UCB: 0.2766, Pi: 0.0013\n",
      "Child: 1, Value: 0.0000, Visits: 0, UCB: 0.2846, Pi: 0.0010\n",
      "Child: 2, Value: 0.0203, Visits: 4, UCB: 0.7050, Pi: 0.0051\n",
      "Child: 3, Value: 0.0353, Visits: 13, UCB: 0.7594, Pi: 0.0141\n",
      "Max Visits: 3\n",
      "Max UCB: 3\n",
      "Max PI: 3\n",
      "\n",
      "Color: 1\n",
      "\t0\t1\t2\t3\t4\t5\t6\t7\n",
      "\t-\t-\t-\t-\t-\t-\t-\t-\n",
      "0 |\t.\t.\t.\t.\t.\t.\t.\t.\n",
      "1 |\t.\t.\t.\t.\t.\t.\t.\t.\n",
      "2 |\t.\t.\t1\t.\t.\t.\t.\t.\n",
      "3 |\t.\t.\t0\t1\t0\t.\t.\t.\n",
      "4 |\t.\t.\t.\t0\t0\t.\t.\t.\n",
      "5 |\t.\t.\t.\t.\t0\t.\t.\t.\n",
      "6 |\t.\t.\t.\t.\t.\t.\t.\t.\n",
      "7 |\t.\t.\t.\t.\t.\t.\t.\t.\n",
      "Player 0: 5, Player 1: 2\n",
      "Child: 0, Value: 0.0036, Visits: 1, UCB: 0.8917, Pi: 0.0055\n",
      "Child: 1, Value: -0.0266, Visits: 3, UCB: 0.7862, Pi: 0.0097\n",
      "Child: 2, Value: -0.0397, Visits: 7, UCB: 0.8610, Pi: 0.0213\n",
      "Child: 3, Value: -0.0259, Visits: 2, UCB: 0.6322, Pi: 0.0059\n",
      "Child: 4, Value: 0.0000, Visits: 0, UCB: 0.7088, Pi: 0.0022\n",
      "Max Visits: 2\n",
      "Max UCB: 0\n",
      "Max PI: 2\n",
      "\n",
      "Color: 0\n",
      "\t0\t1\t2\t3\t4\t5\t6\t7\n",
      "\t-\t-\t-\t-\t-\t-\t-\t-\n",
      "0 |\t.\t.\t.\t.\t.\t.\t.\t.\n",
      "1 |\t.\t.\t.\t.\t.\t.\t.\t.\n",
      "2 |\t.\t.\t1\t.\t.\t.\t.\t.\n",
      "3 |\t.\t1\t1\t1\t0\t.\t.\t.\n",
      "4 |\t.\t.\t.\t0\t0\t.\t.\t.\n",
      "5 |\t.\t.\t.\t.\t0\t.\t.\t.\n",
      "6 |\t.\t.\t.\t.\t.\t.\t.\t.\n",
      "7 |\t.\t.\t.\t.\t.\t.\t.\t.\n",
      "Player 0: 4, Player 1: 4\n"
     ]
    }
   ],
   "source": [
    "def print_node(agent, node, c=4):\n",
    "    if node is None:\n",
    "        return\n",
    "    print('Color: %d' % node.color)\n",
    "    print(node.board)\n",
    "    if len(node.children) > 0:\n",
    "        p, _ = node.get_p_v(agent)\n",
    "        p = p[node.valid_positions_indices]\n",
    "        ucb_scores = _ucb_score(agent, node, c)\n",
    "        for i in range(len(node.children)):\n",
    "            child = node.children[i]\n",
    "            print('Child: %d, Value: %.4f, Visits: %d, UCB: %.4f, Pi: %.4f' % (i, child.value / (1 + child.visits), child.visits, ucb_scores[i], p[i]))\n",
    "            \n",
    "        print('Max Visits: %d' % np.argmax([child.visits for child in node.children]))\n",
    "        print('Max UCB: %d' % np.argmax(ucb_scores))\n",
    "        print('Max PI: %d' % np.argmax(p))\n",
    "        print()\n",
    "        \n",
    "        return node.children[np.argmax(ucb_scores)]\n",
    "\n",
    "curr_node = root_node\n",
    "while curr_node is not None:\n",
    "    curr_node = print_node(agent, curr_node)\n"
   ]
  },
  {
   "cell_type": "code",
   "execution_count": 6,
   "metadata": {},
   "outputs": [
    {
     "ename": "AttributeError",
     "evalue": "'NoneType' object has no attribute 'increment_visits'",
     "output_type": "error",
     "traceback": [
      "\u001b[0;31m---------------------------------------------------------------------------\u001b[0m",
      "\u001b[0;31mAttributeError\u001b[0m                            Traceback (most recent call last)",
      "\u001b[0;32m<ipython-input-6-0e1bfff3ae93>\u001b[0m in \u001b[0;36m<module>\u001b[0;34m()\u001b[0m\n\u001b[0;32m----> 1\u001b[0;31m \u001b[0m_simulate_truncated\u001b[0m\u001b[0;34m(\u001b[0m\u001b[0magent\u001b[0m\u001b[0;34m,\u001b[0m \u001b[0mcurr_node\u001b[0m\u001b[0;34m)\u001b[0m\u001b[0;34m\u001b[0m\u001b[0m\n\u001b[0m",
      "\u001b[0;32m~/projects/othello_rl/othello/mcts.py\u001b[0m in \u001b[0;36m_simulate_truncated\u001b[0;34m(agent, node, frac_occupied)\u001b[0m\n\u001b[1;32m    219\u001b[0m \u001b[0;34m\u001b[0m\u001b[0m\n\u001b[1;32m    220\u001b[0m \u001b[0;32mdef\u001b[0m \u001b[0m_simulate_truncated\u001b[0m\u001b[0;34m(\u001b[0m\u001b[0magent\u001b[0m\u001b[0;34m,\u001b[0m \u001b[0mnode\u001b[0m\u001b[0;34m,\u001b[0m \u001b[0mfrac_occupied\u001b[0m\u001b[0;34m=\u001b[0m\u001b[0;36m.5\u001b[0m\u001b[0;34m)\u001b[0m\u001b[0;34m:\u001b[0m\u001b[0;34m\u001b[0m\u001b[0m\n\u001b[0;32m--> 221\u001b[0;31m     \u001b[0mnode\u001b[0m\u001b[0;34m.\u001b[0m\u001b[0mincrement_visits\u001b[0m\u001b[0;34m(\u001b[0m\u001b[0;34m)\u001b[0m\u001b[0;34m\u001b[0m\u001b[0m\n\u001b[0m\u001b[1;32m    222\u001b[0m \u001b[0;34m\u001b[0m\u001b[0m\n\u001b[1;32m    223\u001b[0m     \u001b[0mboard\u001b[0m \u001b[0;34m=\u001b[0m \u001b[0mnode\u001b[0m\u001b[0;34m.\u001b[0m\u001b[0mboard\u001b[0m\u001b[0;34m.\u001b[0m\u001b[0mcopy\u001b[0m\u001b[0;34m(\u001b[0m\u001b[0;34m)\u001b[0m\u001b[0;34m\u001b[0m\u001b[0m\n",
      "\u001b[0;31mAttributeError\u001b[0m: 'NoneType' object has no attribute 'increment_visits'"
     ]
    }
   ],
   "source": [
    "_simulate_truncated(agent, curr_node)"
   ]
  },
  {
   "cell_type": "code",
   "execution_count": null,
   "metadata": {},
   "outputs": [],
   "source": [
    "print_node(agen)"
   ]
  },
  {
   "cell_type": "code",
   "execution_count": 39,
   "metadata": {},
   "outputs": [
    {
     "name": "stdout",
     "output_type": "stream",
     "text": [
      "\t0\t1\t2\t3\t4\t5\t6\t7\n",
      "\t-\t-\t-\t-\t-\t-\t-\t-\n",
      "0 |\t.\t.\t.\t.\t.\t.\t.\t.\n",
      "1 |\t.\t.\t.\t.\t.\t.\t.\t.\n",
      "2 |\t.\t.\t.\t.\t.\t.\t.\t.\n",
      "3 |\t.\t.\t.\t0\t1\t.\t.\t.\n",
      "4 |\t.\t.\t.\t1\t0\t.\t.\t.\n",
      "5 |\t.\t.\t.\t.\t.\t.\t.\t.\n",
      "6 |\t.\t.\t.\t.\t.\t.\t.\t.\n",
      "7 |\t.\t.\t.\t.\t.\t.\t.\t.\n",
      "Player 0: 2, Player 1: 2\n",
      "\t0\t1\t2\t3\t4\t5\t6\t7\n",
      "\t-\t-\t-\t-\t-\t-\t-\t-\n",
      "0 |\t.\t.\t.\t.\t.\t.\t.\t.\n",
      "1 |\t.\t.\t.\t.\t.\t.\t.\t.\n",
      "2 |\t.\t.\t.\t.\t.\t.\t.\t.\n",
      "3 |\t.\t.\t.\t0\t1\t.\t.\t.\n",
      "4 |\t.\t.\t0\t0\t0\t.\t.\t.\n",
      "5 |\t.\t.\t.\t.\t.\t.\t.\t.\n",
      "6 |\t.\t.\t.\t.\t.\t.\t.\t.\n",
      "7 |\t.\t.\t.\t.\t.\t.\t.\t.\n",
      "Player 0: 4, Player 1: 1\n",
      "\t0\t1\t2\t3\t4\t5\t6\t7\n",
      "\t-\t-\t-\t-\t-\t-\t-\t-\n",
      "0 |\t.\t.\t.\t.\t.\t.\t.\t.\n",
      "1 |\t.\t.\t.\t.\t.\t.\t.\t.\n",
      "2 |\t.\t.\t.\t.\t.\t.\t.\t.\n",
      "3 |\t.\t.\t.\t0\t1\t.\t.\t.\n",
      "4 |\t.\t.\t0\t1\t0\t.\t.\t.\n",
      "5 |\t.\t.\t1\t.\t.\t.\t.\t.\n",
      "6 |\t.\t.\t.\t.\t.\t.\t.\t.\n",
      "7 |\t.\t.\t.\t.\t.\t.\t.\t.\n",
      "Player 0: 3, Player 1: 3\n",
      "\t0\t1\t2\t3\t4\t5\t6\t7\n",
      "\t-\t-\t-\t-\t-\t-\t-\t-\n",
      "0 |\t.\t.\t.\t.\t.\t.\t.\t.\n",
      "1 |\t.\t.\t.\t.\t.\t.\t.\t.\n",
      "2 |\t.\t.\t.\t.\t.\t.\t.\t.\n",
      "3 |\t.\t.\t.\t0\t1\t.\t.\t.\n",
      "4 |\t.\t.\t0\t0\t0\t.\t.\t.\n",
      "5 |\t.\t.\t1\t0\t.\t.\t.\t.\n",
      "6 |\t.\t.\t.\t.\t.\t.\t.\t.\n",
      "7 |\t.\t.\t.\t.\t.\t.\t.\t.\n",
      "Player 0: 5, Player 1: 2\n",
      "\t0\t1\t2\t3\t4\t5\t6\t7\n",
      "\t-\t-\t-\t-\t-\t-\t-\t-\n",
      "0 |\t.\t.\t.\t.\t.\t.\t.\t.\n",
      "1 |\t.\t.\t.\t.\t.\t.\t.\t.\n",
      "2 |\t.\t.\t.\t.\t.\t.\t.\t.\n",
      "3 |\t.\t.\t1\t1\t1\t.\t.\t.\n",
      "4 |\t.\t.\t1\t0\t0\t.\t.\t.\n",
      "5 |\t.\t.\t1\t0\t.\t.\t.\t.\n",
      "6 |\t.\t.\t.\t.\t.\t.\t.\t.\n",
      "7 |\t.\t.\t.\t.\t.\t.\t.\t.\n",
      "Player 0: 3, Player 1: 5\n"
     ]
    }
   ],
   "source": [
    "def traverse_best(agent, node, c=4):\n",
    "    print(node.board)\n",
    "    if len(node.children) > 0:\n",
    "        child_values =  _ucb_score(agent, node, c)\n",
    "        idx = np.argmax(child_values)\n",
    "        traverse_best(agent, node.children[idx], c=c)\n",
    "    \n",
    "traverse_best(agent, root_node)"
   ]
  }
 ],
 "metadata": {
  "kernelspec": {
   "display_name": "Python 3",
   "language": "python",
   "name": "python3"
  },
  "language_info": {
   "codemirror_mode": {
    "name": "ipython",
    "version": 3
   },
   "file_extension": ".py",
   "mimetype": "text/x-python",
   "name": "python",
   "nbconvert_exporter": "python",
   "pygments_lexer": "ipython3",
   "version": "3.6.5"
  }
 },
 "nbformat": 4,
 "nbformat_minor": 2
}
